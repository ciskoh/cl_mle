{
 "cells": [
  {
   "cell_type": "markdown",
   "metadata": {},
   "source": [
    "# Test API from test_client\n"
   ]
  },
  {
   "cell_type": "code",
   "execution_count": 2,
   "metadata": {},
   "outputs": [],
   "source": [
    "import requests\n",
    "import json"
   ]
  },
  {
   "cell_type": "code",
   "execution_count": 3,
   "metadata": {},
   "outputs": [
    {
     "name": "stdout",
     "output_type": "stream",
     "text": [
      "201\n",
      "{'Server': 'Werkzeug/3.0.3 Python/3.12.4', 'Date': 'Fri, 05 Jul 2024 06:12:04 GMT', 'Content-Type': 'application/json', 'Content-Length': '42', 'Connection': 'close'}\n",
      "b'{\\n  \"greeting\": \"hello\",\\n  \"json\": true\\n}\\n'\n"
     ]
    }
   ],
   "source": [
    "# %% test hello world:\n",
    "\n",
    "req = requests.get('http://127.0.0.1:5000/')\n",
    "print(req.status_code)\n",
    "print(req.headers)\n",
    "print(req.content)"
   ]
  },
  {
   "cell_type": "code",
   "execution_count": 4,
   "metadata": {},
   "outputs": [
    {
     "name": "stdout",
     "output_type": "stream",
     "text": [
      "b'{\\n  \"models\": [\\n    \"california_housing_0\",\\n    \"california_1\"\\n  ]\\n}\\n'\n"
     ]
    }
   ],
   "source": [
    "# test the listing model endpoint\n",
    "\n",
    "req = requests.get('http://127.0.0.1:5000/models')\n",
    "print(req.content)"
   ]
  },
  {
   "cell_type": "code",
   "execution_count": 5,
   "metadata": {},
   "outputs": [
    {
     "name": "stdout",
     "output_type": "stream",
     "text": [
      "b'{\\n  \"modelname\": \"california_housing_0\"\\n}\\n'\n"
     ]
    }
   ],
   "source": [
    "# test simple url  templating\n",
    "req = requests.get('http://127.0.0.1:5000/model/california_housing_0')\n",
    "print(req.content)"
   ]
  },
  {
   "cell_type": "code",
   "execution_count": 6,
   "metadata": {},
   "outputs": [
    {
     "name": "stdout",
     "output_type": "stream",
     "text": [
      "{'model_name': 'california_housing_0.pkl', 'steps': [{'class_name': 'sklearn.preprocessing._data.StandardScaler', 'name': 'data_scaling'}, {'class_name': 'sklearn.linear_model._base.LinearRegression', 'name': 'estimator'}]}\n"
     ]
    }
   ],
   "source": [
    "# Requesting model details with an valid model name\n",
    "\n",
    "req = requests.get('http://127.0.0.1:5000/model/details?modelname=california_housing_0')\n",
    "print(req.json())"
   ]
  },
  {
   "cell_type": "code",
   "execution_count": 7,
   "metadata": {},
   "outputs": [
    {
     "name": "stdout",
     "output_type": "stream",
     "text": [
      "404\n"
     ]
    }
   ],
   "source": [
    "# Requesting model details with an invalid model name (error 404)\n",
    "\n",
    "req = requests.get('http://127.0.0.1:5000/model/details?modelname=california_housig_0')\n",
    "print(req.status_code)\n"
   ]
  },
  {
   "cell_type": "code",
   "execution_count": 8,
   "metadata": {},
   "outputs": [
    {
     "name": "stdout",
     "output_type": "stream",
     "text": [
      "[365439.2715435102]\n"
     ]
    }
   ],
   "source": [
    "# %% Request a prediction\n",
    "\n",
    "data = {'longitude': -122.23,\n",
    "        'latitude': 37.88,\n",
    "        'housing_median_age': 41.0,\n",
    "        'total_rooms': 880.0,\n",
    "        'population': 322.0,\n",
    "        'households': 126.0,\n",
    "        'median_income': 8.3252}\n",
    "\n",
    "req = requests.post('http://127.0.0.1:5000/predict/california_housing_0',\n",
    "                headers = {'Content-Type': 'application/json'},\n",
    "                data = json.dumps(data)\n",
    "               )\n",
    "\n",
    "print(req.json())"
   ]
  },
  {
   "cell_type": "code",
   "execution_count": null,
   "metadata": {},
   "outputs": [],
   "source": []
  }
 ],
 "metadata": {
  "kernelspec": {
   "display_name": "cl_mle",
   "language": "python",
   "name": "python3"
  },
  "language_info": {
   "codemirror_mode": {
    "name": "ipython",
    "version": 3
   },
   "file_extension": ".py",
   "mimetype": "text/x-python",
   "name": "python",
   "nbconvert_exporter": "python",
   "pygments_lexer": "ipython3",
   "version": "3.12.4"
  }
 },
 "nbformat": 4,
 "nbformat_minor": 2
}
